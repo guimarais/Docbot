{
 "cells": [
  {
   "cell_type": "code",
   "execution_count": 1,
   "id": "0b63527e-818b-4456-aadf-3de2d6bc61a3",
   "metadata": {},
   "outputs": [],
   "source": [
    "from langchain_openai import ChatOpenAI\n",
    "from langchain import PromptTemplate\n",
    "from langchain.chains.summarize import load_summarize_chain\n",
    "from langchain.document_loaders import PyPDFLoader\n",
    "from IPython.display import Markdown\n",
    "from docubot.getdocs import get_taxonomy"
   ]
  },
  {
   "cell_type": "code",
   "execution_count": 4,
   "id": "0da4a454-5dc7-4b69-9b83-18cb0e51abf0",
   "metadata": {},
   "outputs": [],
   "source": [
    "get_taxonomy(\"taxonomy.pdf\")"
   ]
  },
  {
   "cell_type": "code",
   "execution_count": 2,
   "id": "3d9f6cf2-d04b-4f4d-975d-d0b30b29e385",
   "metadata": {},
   "outputs": [
    {
     "name": "stdout",
     "output_type": "stream",
     "text": [
      "Number of pages:  205\n"
     ]
    }
   ],
   "source": [
    "fileName = \"./downloads/taxonomy.pdf\"\n",
    "loader = PyPDFLoader(fileName)\n",
    "pages = loader.load_and_split()\n",
    "print(\"Number of pages: \", len(pages))"
   ]
  },
  {
   "cell_type": "code",
   "execution_count": 3,
   "id": "f4621e5a-2ade-4109-a5db-878e8f3f8c04",
   "metadata": {},
   "outputs": [],
   "source": [
    "llm = ChatOpenAI(max_tokens=4096)"
   ]
  },
  {
   "cell_type": "code",
   "execution_count": 4,
   "id": "f32270e5-54ab-4c11-9f99-ce090dc3caca",
   "metadata": {},
   "outputs": [
    {
     "data": {
      "text/plain": [
       "'gpt-3.5-turbo'"
      ]
     },
     "execution_count": 4,
     "metadata": {},
     "output_type": "execute_result"
    }
   ],
   "source": [
    "llm.model_name"
   ]
  },
  {
   "cell_type": "code",
   "execution_count": 5,
   "id": "15b39601-979c-4977-8edf-34bd45e9a8d7",
   "metadata": {},
   "outputs": [
    {
     "name": "stdout",
     "output_type": "stream",
     "text": [
      "Number of outputs:  3\n"
     ]
    }
   ],
   "source": [
    "map_prompt_template = \"\"\"\n",
    "                      Write a summary of this chunk of text that includes the main points and any important details.\n",
    "                      {text}\n",
    "                      \"\"\"\n",
    "\n",
    "map_prompt = PromptTemplate(template=map_prompt_template, input_variables=[\"text\"])\n",
    "\n",
    "combine_prompt_template = \"\"\"\n",
    "                      Write a concise summary of the following text delimited by triple backquotes.\n",
    "                      Return your response in bullet points which covers the key points of the text.\n",
    "                      {text}\n",
    "                      BULLET POINT SUMMARY:\n",
    "                      \"\"\"\n",
    "\n",
    "combine_prompt = PromptTemplate(\n",
    "    template=combine_prompt_template, input_variables=[\"text\"]\n",
    ")\n",
    "\n",
    "map_reduce_chain = load_summarize_chain(\n",
    "    llm,\n",
    "    chain_type=\"map_reduce\",\n",
    "    map_prompt=map_prompt,\n",
    "    combine_prompt=combine_prompt,\n",
    "    return_intermediate_steps=True,\n",
    ")\n",
    "\n",
    "map_reduce_outputs = map_reduce_chain.invoke({\"input_documents\": pages[1:10]})\n",
    "print(\"Number of outputs: \", len(map_reduce_outputs))"
   ]
  },
  {
   "cell_type": "code",
   "execution_count": 6,
   "id": "d6a15ccc-6e03-4437-a701-7a109f4337c0",
   "metadata": {},
   "outputs": [
    {
     "data": {
      "text/markdown": [
       "- Communication outlines Commission's plans for financing initiatives for a sustainable economy in Europe\n",
       "- Technical screening criteria discussed for environmental objectives related to water, marine resources, circular economy, pollution prevention, biodiversity\n",
       "- Criteria based on NACE Revision 2 classification system, existing Union law, best practices, standards\n",
       "- Discussion on European regulations related to economic activities and environmental objectives\n",
       "- Importance of circularity of products, waste management, and transitioning to a circular economy\n",
       "- Directives and actions by European Parliament and Council in water policy\n",
       "- Emphasis on phasing out harmful substances, pollution prevention, and creating a toxic-free environment\n",
       "- Construction activities, digital solutions, and sustainable services also discussed in the context of transitioning to a circular economy."
      ],
      "text/plain": [
       "<IPython.core.display.Markdown object>"
      ]
     },
     "execution_count": 6,
     "metadata": {},
     "output_type": "execute_result"
    }
   ],
   "source": [
    "Markdown(map_reduce_outputs['output_text'])"
   ]
  },
  {
   "cell_type": "code",
   "execution_count": 7,
   "id": "2dd99aa3-1d1d-4ff0-9620-10ac22667d6e",
   "metadata": {},
   "outputs": [
    {
     "name": "stdout",
     "output_type": "stream",
     "text": [
      "Number of outputs:  3\n"
     ]
    }
   ],
   "source": [
    "map_prompt_template = \"\"\"\n",
    "                      What conditions must nuclear energy observe in order to be considered a sustainable activity.\n",
    "                      {text}\n",
    "                      \"\"\"\n",
    "\n",
    "map_prompt = PromptTemplate(template=map_prompt_template, input_variables=[\"text\"])\n",
    "\n",
    "combine_prompt_template = \"\"\"\n",
    "                      Return your response in bullet points.\n",
    "                      {text}\n",
    "                      BULLET POINTS:\n",
    "                      \"\"\"\n",
    "\n",
    "combine_prompt = PromptTemplate(\n",
    "    template=combine_prompt_template, input_variables=[\"text\"]\n",
    ")\n",
    "\n",
    "map_reduce_chain = load_summarize_chain(\n",
    "    llm,\n",
    "    chain_type=\"map_reduce\",\n",
    "    map_prompt=map_prompt,\n",
    "    combine_prompt=combine_prompt,\n",
    "    return_intermediate_steps=True,\n",
    ")\n",
    "\n",
    "map_reduce_outputs = map_reduce_chain.invoke({\"input_documents\": pages[1:]})\n",
    "print(\"Number of outputs: \", len(map_reduce_outputs))"
   ]
  },
  {
   "cell_type": "code",
   "execution_count": 8,
   "id": "9a9f2445-c085-40d9-9575-13bc72849033",
   "metadata": {},
   "outputs": [
    {
     "data": {
      "text/markdown": [
       "- Safety measures must be prioritized to prevent accidents and minimize risks\n",
       "- Proper disposal and management of nuclear waste is essential for long-term sustainability\n",
       "- Efficient use of resources, including uranium and other fuels, is necessary\n",
       "- Minimization of environmental impact, including reducing carbon emissions\n",
       "- Compliance with regulations and international standards is crucial\n",
       "- Collaboration with renewable energy sources to reduce overall carbon emissions"
      ],
      "text/plain": [
       "<IPython.core.display.Markdown object>"
      ]
     },
     "execution_count": 8,
     "metadata": {},
     "output_type": "execute_result"
    }
   ],
   "source": [
    "Markdown(map_reduce_outputs['output_text'])"
   ]
  },
  {
   "cell_type": "code",
   "execution_count": 9,
   "id": "c2698938-c03a-428b-a282-bcf5a3324f1c",
   "metadata": {},
   "outputs": [
    {
     "data": {
      "text/markdown": [
       "- Compliance with safety standards for accident prevention\n",
       "- Effective waste management strategies for storage, recycling, and disposal\n",
       "- Adherence to non-proliferation agreements\n",
       "- Contribution to climate change mitigation through low-carbon electricity generation\n",
       "- Consideration of environmental objectives such as water protection and pollution prevention\n",
       "- Use of recycled materials and efficient resource management\n",
       "- Compliance with Union laws related to sustainability\n",
       "- Consideration of social impacts and public engagement\n",
       "- Economic benefits and tourism impact considerations\n",
       "- Strict pollution control measures\n",
       "- Transition to circular economy practices\n",
       "- Protection and restoration of biodiversity and ecosystems\n",
       "- Disclosure of relevant environmental information\n",
       "- Implementation of pollution prevention measures\n",
       "- Proper management of radioactive waste\n",
       "- Continuous improvement of technology for sustainability\n",
       "- Operation in areas with detailed ecological information and management plans\n",
       "- Enhancement of ecosystem services and monitoring of conservation objectives\n",
       "- Collaboration with conservation organizations\n",
       "- Transparency in decision-making and funding allocation\n",
       "- Regular audits and verification of conservation measures\n",
       "- Guarantee of permanence through protected area designation\n",
       "- Avoidance of impacts on high conservation value areas and species\n",
       "- Compliance with international agreements and treaties\n",
       "- Engagement with stakeholders and public transparency\n",
       "- Contribution to climate change adaptation and reduction of environmental impact\n",
       "- Proper management and disposal of radioactive waste\n",
       "- Mitigation of nuclear accident risks and emergency preparedness\n",
       "- Engagement with local communities and environmental organizations\n",
       "- Promotion of a circular economy and pollution prevention measures\n",
       "- Consideration of climate-related hazards and resilience building."
      ],
      "text/plain": [
       "<IPython.core.display.Markdown object>"
      ]
     },
     "execution_count": 9,
     "metadata": {},
     "output_type": "execute_result"
    }
   ],
   "source": [
    "map_prompt_template = \"\"\"\n",
    "                      What conditions must nuclear energy observe in order to be considered a sustainable activity?\n",
    "                      {text}\n",
    "                      \"\"\"\n",
    "\n",
    "map_prompt = PromptTemplate(template=map_prompt_template, input_variables=[\"text\"])\n",
    "\n",
    "combine_prompt_template = \"\"\"\n",
    "                      Return an extensive answer.\n",
    "                      {text}\n",
    "                      BULLET POINTS:\n",
    "                      \"\"\"\n",
    "\n",
    "combine_prompt = PromptTemplate(\n",
    "    template=combine_prompt_template, input_variables=[\"text\"]\n",
    ")\n",
    "\n",
    "map_reduce_chain = load_summarize_chain(\n",
    "    llm,\n",
    "    chain_type=\"map_reduce\",\n",
    "    map_prompt=map_prompt,\n",
    "    combine_prompt=combine_prompt,\n",
    "    return_intermediate_steps=True,\n",
    ")\n",
    "\n",
    "map_reduce_outputs = map_reduce_chain.invoke({\"input_documents\": pages[1:]})\n",
    "Markdown(map_reduce_outputs['output_text'])"
   ]
  },
  {
   "cell_type": "code",
   "execution_count": null,
   "id": "a8638c6f-ba9f-4de8-8e8a-b4ef89df5ae3",
   "metadata": {},
   "outputs": [],
   "source": []
  }
 ],
 "metadata": {
  "kernelspec": {
   "display_name": "Python 3 (ipykernel)",
   "language": "python",
   "name": "python3"
  },
  "language_info": {
   "codemirror_mode": {
    "name": "ipython",
    "version": 3
   },
   "file_extension": ".py",
   "mimetype": "text/x-python",
   "name": "python",
   "nbconvert_exporter": "python",
   "pygments_lexer": "ipython3",
   "version": "3.11.9"
  }
 },
 "nbformat": 4,
 "nbformat_minor": 5
}
